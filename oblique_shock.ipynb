{
 "cells": [
  {
   "cell_type": "code",
   "execution_count": 29,
   "metadata": {},
   "outputs": [],
   "source": [
    "import numpy as np\n",
    "from scipy import optimize"
   ]
  },
  {
   "cell_type": "markdown",
   "metadata": {},
   "source": [
    "<img src=\"files/oblique_shock.pdf\" alt=\"Reflected oblique shock\" style=\"width: 600px;\"/>"
   ]
  },
  {
   "cell_type": "markdown",
   "metadata": {},
   "source": [
    "Starting with an initial flow over a horizontal surface where $M_1 = 2.2$, an oblique shock forms at an angle of $\\theta = 35^{\\circ}$, which deflects the flow by the angle $\\delta$. The flow now has Mach number $M_2$.\n",
    "\n",
    "To satisfy the boundary condition of the surface, the oblique shock reflects at an angle $\\beta$ from the surface, which deflects the flow back to the horizontal direction with a flow at a Mach number of $M_3$.\n",
    "\n",
    "What is the angle of reflection ($\\beta$)? How do the strengths of each shock compare?"
   ]
  },
  {
   "cell_type": "markdown",
   "metadata": {},
   "source": [
    "First, let's determine the deflection angle using\n",
    "\\begin{equation}\n",
    "\\tan \\delta = 2 (\\cot \\theta) \\left[ \\frac{M_1^2 \\sin^2 \\theta - 1}{M_1^2 (\\gamma + \\cos 2\\theta) + 2}\\right]\n",
    "\\end{equation}"
   ]
  },
  {
   "cell_type": "code",
   "execution_count": 31,
   "metadata": {},
   "outputs": [
    {
     "name": "stdout",
     "output_type": "stream",
     "text": [
      "Deflection angle: 9.21\n"
     ]
    }
   ],
   "source": [
    "delta = np.arctan(\n",
    "    2 * (1 / np.tan(theta)) * (M1**2 * np.sin(theta)**2 - 1) / (M1**2 * (gamma + np.cos(2*theta)) + 2)\n",
    ")\n",
    "print(f'Deflection angle: {np.degrees(delta):.3}')"
   ]
  },
  {
   "cell_type": "code",
   "execution_count": 32,
   "metadata": {},
   "outputs": [
    {
     "name": "stdout",
     "output_type": "stream",
     "text": [
      "M_2 = 1.85\n"
     ]
    }
   ],
   "source": [
    "gamma = 1.4\n",
    "M1 = 2.2\n",
    "theta = np.radians(35.0) # convert from degrees to radians\n",
    "\n",
    "M1n = M1 * np.sin(theta)\n",
    "M2n = np.sqrt((M1n**2 + (2/(gamma - 1))) / (M1n**2 * (2*gamma)/(gamma - 1) - 1))\n",
    "\n",
    "M2 = M2n / np.sin(theta - delta)\n",
    "print(f'M_2 = {M2:.3}')"
   ]
  },
  {
   "cell_type": "markdown",
   "metadata": {},
   "source": [
    "Now, the reflected oblique shock must turn the flow back to the horizontal direction to satisfy flow tangency with the wall, so $\\delta_2 = \\delta$. We can thus determine the angle of the second shock, **but** this is defined with respect to the flow direction in the middle region, thus $\\beta = \\theta_2 - \\delta$."
   ]
  },
  {
   "cell_type": "code",
   "execution_count": 16,
   "metadata": {},
   "outputs": [
    {
     "name": "stdout",
     "output_type": "stream",
     "text": [
      "theta_2 = 41.7 degrees\n",
      "beta = 32.5 degrees\n"
     ]
    }
   ],
   "source": [
    "def oblique(theta, M1, delta, gamma):\n",
    "    return (\n",
    "        np.tan(delta) - \n",
    "        2 * (1 / np.tan(theta)) * (M1**2 * np.sin(theta)**2 - 1) / (M1**2 * (gamma + np.cos(2*theta)) + 2)\n",
    "    )\n",
    "\n",
    "root = optimize.root_scalar(oblique, # function we are solving\n",
    "                            args=(M2, delta, gamma),\n",
    "                            # give range for weak shocks\n",
    "                            bracket=[np.radians(0.0001), np.radians(45.0)]\n",
    "                           )\n",
    "theta_2 = root.root\n",
    "print(f'theta_2 = {np.degrees(theta_2):.3} degrees')\n",
    "beta = theta_2 - delta\n",
    "print(f'beta = {np.degrees(beta):.3} degrees')"
   ]
  },
  {
   "cell_type": "markdown",
   "metadata": {},
   "source": [
    "Thus, the angle of reflection $\\beta$ is **smaller** than the angle of incidence $\\theta$. Regarding the shock strength, we can compare the normal Mach numbers of the flow prior to each shock:"
   ]
  },
  {
   "cell_type": "code",
   "execution_count": 17,
   "metadata": {},
   "outputs": [
    {
     "name": "stdout",
     "output_type": "stream",
     "text": [
      "M1n = 1.262\n",
      "M2n = 1.233\n"
     ]
    }
   ],
   "source": [
    "print(f'M1n = {M1n:.4}')\n",
    "M3n = M2 * np.sin(theta_2)\n",
    "print(f'M2n = {M3n:.4}')"
   ]
  },
  {
   "cell_type": "markdown",
   "metadata": {},
   "source": [
    "We can see that the second shock occurs at a smaller Mach number, so it is **weaker**."
   ]
  }
 ],
 "metadata": {
  "kernelspec": {
   "display_name": "Python 3",
   "language": "python",
   "name": "python3"
  },
  "language_info": {
   "codemirror_mode": {
    "name": "ipython",
    "version": 3
   },
   "file_extension": ".py",
   "mimetype": "text/x-python",
   "name": "python",
   "nbconvert_exporter": "python",
   "pygments_lexer": "ipython3",
   "version": "3.6.7"
  }
 },
 "nbformat": 4,
 "nbformat_minor": 2
}
