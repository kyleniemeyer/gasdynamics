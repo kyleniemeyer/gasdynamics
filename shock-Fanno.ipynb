{
 "cells": [
  {
   "cell_type": "code",
   "execution_count": 1,
   "metadata": {},
   "outputs": [],
   "source": [
    "import numpy as np"
   ]
  },
  {
   "cell_type": "code",
   "execution_count": 5,
   "metadata": {},
   "outputs": [
    {
     "name": "stdout",
     "output_type": "stream",
     "text": [
      "2.39859282796187 0.06855197458011801\n"
     ]
    }
   ],
   "source": [
    "machs = [2.38, 2.39, 2.40, 2.41, 2.42]\n",
    "area_ratios = [2.35928, 2.38107, 2.40310, 2.42537, 2.44787]\n",
    "p_ratios = [0.07057, 0.06948, 0.06840, 0.06734, 0.06630]\n",
    "M3 = np.interp(2.4, area_ratios, machs)\n",
    "p3pt3 = np.interp(2.4, area_ratios, p_ratios)\n",
    "print(M3, p3pt3)"
   ]
  },
  {
   "cell_type": "code",
   "execution_count": 6,
   "metadata": {},
   "outputs": [
    {
     "name": "stdout",
     "output_type": "stream",
     "text": [
      "1.7020297477155348\n"
     ]
    }
   ],
   "source": [
    "p3pstar = 0.31114\n",
    "p5pstar = (3/8) * 1.0 * (1/p3pt3) * (p3pstar)\n",
    "print(p5pstar)"
   ]
  },
  {
   "cell_type": "code",
   "execution_count": 8,
   "metadata": {},
   "outputs": [
    {
     "name": "stdout",
     "output_type": "stream",
     "text": [
      "0.6202002941955351\n"
     ]
    }
   ],
   "source": [
    "machs = [0.60, 0.61, 0.62, 0.63, 0.64]\n",
    "p_ratios = [1.76336, 1.73250, 1.70261, 1.67364, 1.64556]\n",
    "M5 = np.interp(p5pstar, p_ratios[::-1], machs[::-1])\n",
    "print(M5)"
   ]
  },
  {
   "cell_type": "code",
   "execution_count": 9,
   "metadata": {},
   "outputs": [
    {
     "name": "stdout",
     "output_type": "stream",
     "text": [
      "1.7836668375740825\n"
     ]
    }
   ],
   "source": [
    "# normal shock\n",
    "mach_1s = [1.75, 1.76, 1.77, 1.78, 1.79]\n",
    "mach_2s = [0.62809, 0.62570, 0.62335, 0.62104, 0.61875]\n",
    "M4 = np.interp(M5, mach_2s[::-1], mach_1s[::-1])\n",
    "print(M4)"
   ]
  },
  {
   "cell_type": "code",
   "execution_count": 14,
   "metadata": {},
   "outputs": [
    {
     "name": "stdout",
     "output_type": "stream",
     "text": [
      "0.40956775760326825\n",
      "0.23642205742489172\n"
     ]
    },
    {
     "data": {
      "text/plain": [
       "0.17314570017837652"
      ]
     },
     "execution_count": 14,
     "metadata": {},
     "output_type": "execute_result"
    }
   ],
   "source": [
    "# Fanno\n",
    "machs = [2.38, 2.39, 2.40, 2.41]\n",
    "frictions = [0.40529, 0.40760, 0.40989, 0.41217]\n",
    "fL3D = np.interp(M3, machs, frictions)\n",
    "print(fL3D)\n",
    "\n",
    "machs = [1.75, 1.76, 1.77, 1.78, 1.79]\n",
    "frictions = [0.22504, 0.22844, 0.23182, 0.23519, 0.23855]\n",
    "fL4D = np.interp(M4, machs, frictions)\n",
    "print(fL4D)\n",
    "\n",
    "fL3D - fL4D"
   ]
  },
  {
   "cell_type": "code",
   "execution_count": null,
   "metadata": {},
   "outputs": [],
   "source": []
  }
 ],
 "metadata": {
  "kernelspec": {
   "display_name": "Python 3",
   "language": "python",
   "name": "python3"
  },
  "language_info": {
   "codemirror_mode": {
    "name": "ipython",
    "version": 3
   },
   "file_extension": ".py",
   "mimetype": "text/x-python",
   "name": "python",
   "nbconvert_exporter": "python",
   "pygments_lexer": "ipython3",
   "version": "3.7.3"
  }
 },
 "nbformat": 4,
 "nbformat_minor": 2
}
