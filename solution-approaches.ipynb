{
 "cells": [
  {
   "cell_type": "code",
   "execution_count": 7,
   "metadata": {},
   "outputs": [],
   "source": [
    "import matplotlib.pyplot as plt\n",
    "import numpy as np\n",
    "from scipy import optimize"
   ]
  },
  {
   "cell_type": "markdown",
   "metadata": {},
   "source": [
    "To solve the complicated, typically transcendental equations we come across, we can use the `scipy.optimize.root_scalar()` function. To do this, we need to create a function that returns the difference between the left-hand and right-hand sides of the equation we're solving.\n",
    "\n",
    "In this example, let's solve the equation relating $M_1$, $M_2$, $A_2/A_1$, and $\\gamma$:\n",
    "\\begin{equation}\n",
    "\\frac{A_2}{A_1} = \\frac{M_1}{M_2} \\left[ \\frac{1 + \\frac{\\gamma-1}{2} M_2^2}{1 + \\frac{\\gamma-1}{2} M_1^2} \\right]^{\\frac{\\gamma+1}{2(\\gamma-1)}} e^{\\Delta s/R}\n",
    "\\end{equation}\n",
    "for $M_2$ if we know $M_1$, $A_2/A_1$, and $\\gamma$.\n",
    "\n",
    "To do this, we'll create a function `fA()` that takes as arguments $M_2$, $M_1$, $A_2/A_1$, and $\\gamma$. It codes the Equation 1 as\n",
    "\\begin{equation}\n",
    "\\frac{A_2}{A_1} - \\frac{M_1}{M_2} \\left[ \\frac{1 + \\frac{\\gamma-1}{2} M_2^2}{1 + \\frac{\\gamma-1}{2} M_1^2} \\right]^{\\frac{\\gamma+1}{2(\\gamma-1)}} e^{\\Delta s/R} = 0\n",
    "\\end{equation}"
   ]
  },
  {
   "cell_type": "code",
   "execution_count": 8,
   "metadata": {},
   "outputs": [],
   "source": [
    "def fA(M2, M1, A_ratio, gamma):\n",
    "    '''Function for equation relating Mach numbers and area ratio.\n",
    "    '''\n",
    "    return A_ratio - (M1/M2) * ((1 + ((gamma-1)/2.)*M2**2)/(1 + ((gamma-1)/2.)*M1**2))**((gamma + 1)/(2*(gamma-1)))"
   ]
  },
  {
   "cell_type": "markdown",
   "metadata": {},
   "source": [
    "Then, we'll specify the known quantities and call the `root_scalar()` function, specifying the function to solve `fA` as the first parameter.\n",
    "\n",
    "`root_scalar()` expects the first parameter in the function `fA` to be the unknown it is solving for. We can also pass through the other arguments as known constants using the `args` parameter. We can also help it find the correct solution by indicating a subsonic or supersonic solution with the `bracket` parameter."
   ]
  },
  {
   "cell_type": "code",
   "execution_count": 13,
   "metadata": {},
   "outputs": [
    {
     "name": "stdout",
     "output_type": "stream",
     "text": [
      "      converged: True\n",
      "           flag: 'converged'\n",
      " function_calls: 15\n",
      "     iterations: 14\n",
      "           root: 2.753763176695055\n"
     ]
    }
   ],
   "source": [
    "M1 = 0.5\n",
    "A_ratio = 5/2\n",
    "gamma = 1.4\n",
    "root = optimize.root_scalar(fA, # This is the function we are solving\n",
    "                            args=(M1, A_ratio, gamma),\n",
    "                            # give a range for the solution\n",
    "                            bracket=[1.0001, 10.0]\n",
    "                            )\n",
    "print(root)"
   ]
  },
  {
   "cell_type": "markdown",
   "metadata": {},
   "source": [
    "Instead of solving equations directly, we can use the helpful tabulated results available in the back of the textbook (as long as we are dealing with air, or at least an ideal diatomic gas where $\\gamma = 1.4$). \n",
    "\n",
    "However, often our problems don't fall exactly on the numbers provided, so we need to use interpolation for an accurate answer. We can do this easily with the `numpy.interp()` function.\n",
    "\n",
    "In this example, we want to find the ratio $\\frac{p}{p_t}$ associated with $M = 1.715$. To do that, we create lists of $M$ and $\\frac{p}{p_t}$ surrounding the point of interest, t"
   ]
  },
  {
   "cell_type": "code",
   "execution_count": 5,
   "metadata": {},
   "outputs": [
    {
     "data": {
      "text/plain": [
       "0.19805999999999996"
      ]
     },
     "execution_count": 5,
     "metadata": {},
     "output_type": "execute_result"
    }
   ],
   "source": [
    "machs = [1.70, 1.71, 1.72, 1.73, 1.74]\n",
    "p_ratios = [0.20259, 0.19956, 0.19656, 0.19361, 0.19070]\n",
    "np.interp(1.715, machs, p_ratios)"
   ]
  },
  {
   "cell_type": "markdown",
   "metadata": {},
   "source": [
    "You can also work the other way, but the `np.interp()` function expects the x list to be *increasing*, so we need to reverse the order of both lists."
   ]
  },
  {
   "cell_type": "code",
   "execution_count": 6,
   "metadata": {},
   "outputs": [
    {
     "data": {
      "text/plain": [
       "1.7151999999999998"
      ]
     },
     "execution_count": 6,
     "metadata": {},
     "output_type": "execute_result"
    }
   ],
   "source": [
    "np.interp(0.198, p_ratio[::-1], M[::-1])"
   ]
  },
  {
   "cell_type": "code",
   "execution_count": null,
   "metadata": {},
   "outputs": [],
   "source": []
  }
 ],
 "metadata": {
  "kernelspec": {
   "display_name": "Python 3",
   "language": "python",
   "name": "python3"
  },
  "language_info": {
   "codemirror_mode": {
    "name": "ipython",
    "version": 3
   },
   "file_extension": ".py",
   "mimetype": "text/x-python",
   "name": "python",
   "nbconvert_exporter": "python",
   "pygments_lexer": "ipython3",
   "version": "3.7.3"
  }
 },
 "nbformat": 4,
 "nbformat_minor": 2
}
